{
 "cells": [
  {
   "cell_type": "markdown",
   "metadata": {},
   "source": [
    "# 机器人传感器\n",
    "\n",
    "机器人通过摄像头和其他传感器来感知世界，但这些传感器并是不完全准确的。在这段视频中，你看到的示例是一个由彩色网格单元格组成的一维世界中的机器人。所有单元格都是绿色或红色的。机器人可以感觉到自己在一个红色网格单元中。\n",
    "\n",
    "这个读数准确的概率，我们称之为传感器达到目标**pHd**，这个概率是`0.6`，但这是个读数不准确的概率（传感器已经错过了它的目标），机器人*实际上*在一个绿色网格单元中，且`pMiss`等于0.2。\n",
    "\n",
    "在这个notebook中，我们会一步一步地了解它的工作原理。\n",
    "\n",
    "### 均匀分布\n",
    "\n",
    "该机器人会从一个长度为5个单元格的地图中开始运动。由于它最初不知道自己在哪里，所以在任何一个空间的概率是相同的，这就是均匀分布！"
   ]
  },
  {
   "cell_type": "code",
   "execution_count": null,
   "metadata": {},
   "outputs": [],
   "source": [
    "# importing resources\n",
    "import matplotlib.pyplot as plt\n",
    "import numpy as np"
   ]
  },
  {
   "cell_type": "code",
   "execution_count": null,
   "metadata": {},
   "outputs": [],
   "source": [
    "# ex. initialize_robot(5) = [0.2, 0.2, 0.2, 0.2, 0.2]\n",
    "def initialize_robot(grid_length):\n",
    "    ''' Takes in a grid length and returns \n",
    "       a uniform distribution of location probabilities'''\n",
    "    \n",
    "    p = []\n",
    "    \n",
    "    # create a list that has the value of 1/grid_length for each cell\n",
    "    for i in range(grid_length):\n",
    "        p.append(1.0/grid_length)\n",
    "        \n",
    "    return p"
   ]
  },
  {
   "cell_type": "markdown",
   "metadata": {},
   "source": [
    "还要用到一个辅助函数，用于可视化此分布。下面的函数`display_map`将会输出一个条形图，显示机器人在每个网格空间中的概率。至于概率范围，y轴的范围是0到1。对于均匀分布来说，这看起来像一条扁平线。如果想要将它们分开，可以选择每个条的宽度<= 1。"
   ]
  },
  {
   "cell_type": "code",
   "execution_count": null,
   "metadata": {},
   "outputs": [],
   "source": [
    "def display_map(grid, bar_width=1):\n",
    "    if(len(grid) > 0):\n",
    "        x_labels = range(len(grid))\n",
    "        plt.bar(x_labels, height=grid, width=bar_width, color='b')\n",
    "        plt.xlabel('Grid Cell')\n",
    "        plt.ylabel('Probability')\n",
    "        plt.ylim(0, 1) # range of 0-1 for probability values \n",
    "        plt.title('Probability of the robot being at each cell in the grid')\n",
    "        plt.xticks(np.arange(min(x_labels), max(x_labels)+1, 1))\n",
    "        plt.show()\n",
    "    else:\n",
    "        print('Grid is empty')\n"
   ]
  },
  {
   "cell_type": "code",
   "execution_count": null,
   "metadata": {},
   "outputs": [],
   "source": [
    "# initialize a 5 cell, 1D world\n",
    "p = initialize_robot(5)\n",
    "display_map(p)"
   ]
  },
  {
   "cell_type": "markdown",
   "metadata": {},
   "source": [
    "### 感知后的概率\n",
    "\n",
    "然后，这个机器人会感知到它处于一个红色网格单元中，并更新其概率。根据我们的例子：\n",
    "\n",
    "* 机器人对颜色感知正确的概率是`pHit = 0.6`。\n",
    "* 机器人对颜色感知不正确的概率是`pMiss = 0.2`，在这个示例中：它看到了红色，但*实际上*它在绿色单元格中。\n",
    "\n",
    "<img src='images/robot_sensing.png' width=50% height=50% />\n",
    "\n",
    "#### 接下来，我们编写一段代码，使每个条目在适当的位置乘以pHit或pMiss后输出一个新的网格`p`。 \n",
    "\n",
    "请记住，红色单元格（单元格1和单元格2）代表“感知正确”，而其他绿色单元格代表“感知不正确”。\n",
    "\n",
    "请注意，由于机器人在表示浮点方面并不是无可挑剔的，因此，你看到的值可能会不准确。"
   ]
  },
  {
   "cell_type": "code",
   "execution_count": null,
   "metadata": {},
   "outputs": [],
   "source": [
    "# given initial variables\n",
    "p = initialize_robot(5)\n",
    "pHit  = 0.6\n",
    "pMiss = 0.2\n",
    "\n",
    "# Creates a new grid, with modified probabilities, after sensing\n",
    "# All values are calculated by a product of 1. the sensing probability for a color (pHit for red)\n",
    "# and 2. the current probability of a robot being in that location p[i]; all equal to 0.2 at first.\n",
    "p[0] = p[0]*pMiss\n",
    "p[1] = p[1]*pHit\n",
    "p[2] = p[2]*pHit\n",
    "p[3] = p[3]*pMiss\n",
    "p[4] = p[4]*pMiss\n",
    "\n",
    "print(p)\n",
    "display_map(p)"
   ]
  },
  {
   "cell_type": "markdown",
   "metadata": {},
   "source": [
    "你应该看到红色网格单元格（1和2）的概率高于绿色单元格。但奇怪的是，这些概率条竟然那么低，同时，你可能已经注意到，这些不能准确地表示概率分布，因为这个列表中的分量总和不是1！\n",
    "\n",
    "### 练习：计算所有概率的总和。\n",
    "\n",
    "这些值加起来是多少？你认为我们如何将其转化为一个其分量总和为1的概率分布，？\n",
    "\n",
    "在下一个代码单元格中，编写一段代码，计算一个新空间中的概率值`p` 的总和。"
   ]
  },
  {
   "cell_type": "code",
   "execution_count": null,
   "metadata": {},
   "outputs": [],
   "source": [
    "# What is the sum of all the values in p?\n",
    "\n",
    "## TODO: add up all the values in the list of location probabilities to determine the answer\n"
   ]
  }
 ],
 "metadata": {},
 "nbformat": 4,
 "nbformat_minor": 2
}
