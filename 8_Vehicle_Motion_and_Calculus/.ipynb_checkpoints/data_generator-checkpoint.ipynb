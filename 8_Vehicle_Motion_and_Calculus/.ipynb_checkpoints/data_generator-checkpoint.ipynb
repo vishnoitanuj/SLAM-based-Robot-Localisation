{
 "cells": [
  {
   "cell_type": "code",
   "execution_count": 1,
   "metadata": {},
   "outputs": [],
   "source": [
    "from math import pi, sin, cos, tan\n",
    "from matplotlib import pyplot as plt\n",
    "import pickle\n",
    "import numpy as np\n",
    "\n",
    "%matplotlib inline\n",
    "\n",
    "\n",
    "\n",
    "class Car:\n",
    "    \n",
    "    fps       = 16.0     # frames per second\n",
    "    dt        = 1.0 / fps # time per frame\n",
    "    max_steer = 30.0      # degrees\n",
    "    L         = 4.0       # meters\n",
    "    max_a     = 2 * 9.8   # m/s/s\n",
    "    max_brake = 5 * 9.8   \n",
    "    \n",
    "    def __init__(self):\n",
    "        # state variables\n",
    "        self.x     = 0.0\n",
    "        self.y     = 0.0\n",
    "        self.theta = 0.0  # east\n",
    "        self.speed = 0.0\n",
    "        self.omega = 0.0\n",
    "        self.t     = 0.0\n",
    "        \n",
    "        # driver controllable\n",
    "        self.a_y   = 0.0\n",
    "        self.alpha = 0.0\n",
    "        \n",
    "        # state history\n",
    "        self.history = [(0,0,0,0,0,0,0,0)]\n",
    "        \n",
    "        self.braking = False\n",
    "        self.backing = False\n",
    "        \n",
    "    def reverse(self):\n",
    "        self.a_y = 0.0\n",
    "        self.backing = True\n",
    "        \n",
    "    def forward(self):\n",
    "        self.a_y = 0.0\n",
    "        self.backing = False\n",
    "\n",
    "    def steer(self, angle):\n",
    "        assert -self.max_steer <= angle <= self.max_steer\n",
    "        self.alpha = angle * pi / 180\n",
    "    \n",
    "    def gas(self, amount):\n",
    "        assert -1.0 <= amount <= 1.0\n",
    "        self.a_y = amount * self.max_a\n",
    "        \n",
    "#     def brake(self, amount):\n",
    "#         assert 0.0 <= amount <= 1.0\n",
    "#         sgn = -1.0\n",
    "#         if self.speed < 0.0:\n",
    "#             sgn = 1.0\n",
    "#         self.braking = True\n",
    "#         self.a_y = sgn * amount * self.max_brake\n",
    "    \n",
    "    def go(self, duration):\n",
    "        num_frames = int(duration / self.dt)\n",
    "        for i in range(num_frames):\n",
    "            snapshot = (\n",
    "                self.t+self.dt,    # \n",
    "                self.a_y,  # \n",
    "                self.speed,#\n",
    "                self.x,    \n",
    "                self.y,    \n",
    "                self.theta,\n",
    "                self.omega, #\n",
    "                self.alpha,#\n",
    "            )\n",
    "            self.history.append(snapshot)\n",
    "            self.increment_frame()\n",
    "    \n",
    "    def increment_frame(self):\n",
    "        new_t      = self.t + self.dt\n",
    "        new_a_y    = self.a_y\n",
    "        new_speed  = self.speed + self.a_y * self.dt\n",
    "        if self.backing:\n",
    "            new_speed  = self.speed - self.a_y * self.dt \n",
    "        new_alpha  = self.alpha\n",
    "        new_omega  = self.speed / self.L * tan(self.alpha)\n",
    "        new_theta  = (self.theta + self.omega * self.dt) % (2*pi)\n",
    "        \n",
    "        # intermediate steps for x, y\n",
    "        distance   = self.speed * self.dt\n",
    "        dx         = distance * cos(self.theta)\n",
    "        dy         = distance * sin(self.theta)\n",
    "        \n",
    "        new_x      = self.x + dx\n",
    "        new_y      = self.y + dy\n",
    "        \n",
    "        self.t     = new_t\n",
    "        self.a_y   = new_a_y\n",
    "        self.speed = new_speed\n",
    "        self.alpha = new_alpha\n",
    "        self.omega = new_omega\n",
    "        self.theta = new_theta\n",
    "        self.x     = new_x\n",
    "        self.y     = new_y\n",
    "        \n",
    "    def show_history(self, increment=10):\n",
    "        t, a, s, x, y, theta, omega, alpha = np.array(car.history).T\n",
    "        plt.scatter(x[::increment],y[::increment])\n",
    "        \n",
    "    def show_history2(self, inc=10):\n",
    "        t, a, s, x, y, theta, omega, alpha = np.array(car.history).T\n",
    "        u = np.cos(theta)\n",
    "        v = np.sin(theta)\n",
    "#         m = np.hypot(u,v)\n",
    "        Q = plt.quiver(x[::inc],y[::inc],u[::inc],v[::inc], \n",
    "                       units='x', pivot='tip')\n",
    "        qk = plt.quiverkey(Q, 0.9, 0.9, 2, r'$1 \\frac{m}{s}', \n",
    "                           labelpos='E', coordinates='figure' )\n",
    "        \n",
    "        \n",
    "    def get_displacements(self):\n",
    "        disp = 0\n",
    "        displacements = [disp]\n",
    "        t, a, s, x, y, theta, omega, alpha = np.array(car.history).T\n",
    "        last_t = 0.0\n",
    "        for ts, speed in zip(t[1:], s[1:] ):\n",
    "            dt = ts - last_t\n",
    "            dD = speed * dt\n",
    "            disp += dD\n",
    "            displacements.append(disp)\n",
    "            last_t = ts\n",
    "        return displacements\n",
    "        \n",
    "        \n",
    "    def save_trajectory(self, filename):\n",
    "        t, a, s, x, y, theta, omega, alpha = np.array(car.history).T\n",
    "        displacements = self.get_displacements()\n",
    "        assert(len(displacements) == len(t) )\n",
    "        trajectory = zip(t, displacements, omega, a)\n",
    "        with open(filename, 'wb') as f:\n",
    "            pickle.dump(trajectory, f)\n",
    "        print(\"saved trajectory to\", filename)\n",
    "            "
   ]
  },
  {
   "cell_type": "code",
   "execution_count": 2,
   "metadata": {},
   "outputs": [],
   "source": [
    "car = Car()\n",
    "car.gas(0.2)\n",
    "car.steer(0.0)\n",
    "car.go(5.0)\n",
    "\n",
    "car.gas(0.0)\n",
    "car.steer(20)\n",
    "car.go(1.0)\n",
    "\n",
    "car.gas(-0.35)\n",
    "car.go(2.0)\n",
    "\n",
    "car.gas(0.0)\n",
    "car.steer(0.0)\n",
    "car.go(0.5)\n",
    "\n",
    "car.gas(0.5)\n",
    "car.go(3.5)\n",
    "car.gas(0.0)\n",
    "car.go(1.0)"
   ]
  },
  {
   "cell_type": "code",
   "execution_count": 3,
   "metadata": {},
   "outputs": [
    {
     "data": {
      "image/png": "[encoded data removed]",
      "text/plain": [
       "<Figure size 432x288 with 1 Axes>"
      ]
     },
     "metadata": {},
     "output_type": "display_data"
    }
   ],
   "source": [
    "car.show_history2(2)"
   ]
  },
  {
   "cell_type": "code",
   "execution_count": 4,
   "metadata": {},
   "outputs": [
    {
     "name": "stdout",
     "output_type": "stream",
     "text": [
      "saved trajectory to trajectory_1.pickle\n"
     ]
    }
   ],
   "source": [
    "car.save_trajectory(\"trajectory_1.pickle\")"
   ]
  },
  {
   "cell_type": "code",
   "execution_count": 5,
   "metadata": {},
   "outputs": [
    {
     "data": {
      "image/png": "[encoded data removed]",
      "text/plain": [
       "<Figure size 432x288 with 1 Axes>"
      ]
     },
     "metadata": {},
     "output_type": "display_data"
    }
   ],
   "source": [
    "car = Car()\n",
    "\n",
    "car.reverse()\n",
    "car.gas(0.1)\n",
    "car.steer(0.0)\n",
    "car.go(1.0)\n",
    "\n",
    "car.gas(0.0)\n",
    "car.steer(-car.max_steer)\n",
    "car.go(1.0)\n",
    "\n",
    "car.steer(car.max_steer)\n",
    "car.go(1.0)\n",
    "\n",
    "car.steer(0.0)\n",
    "car.go(0.2)\n",
    "\n",
    "car.forward()\n",
    "car.gas(0.15)\n",
    "car.go(2.0)\n",
    "\n",
    "car.gas(0.0)\n",
    "car.go(0.2)\n",
    "\n",
    "car.reverse()\n",
    "car.gas(0.5)\n",
    "car.go(0.41)\n",
    "\n",
    "car.show_history2(1)"
   ]
  },
  {
   "cell_type": "code",
   "execution_count": 6,
   "metadata": {},
   "outputs": [
    {
     "name": "stdout",
     "output_type": "stream",
     "text": [
      "saved trajectory to sharp_left.pickle\n"
     ]
    }
   ],
   "source": [
    "car.save_trajectory(\"sharp_left.pickle\")"
   ]
  },
  {
   "cell_type": "code",
   "execution_count": 8,
   "metadata": {},
   "outputs": [
    {
     "data": {
      "text/plain": [
       "array([[ 0.00000000e+00,  0.00000000e+00,  0.00000000e+00,\n",
       "         0.00000000e+00,  0.00000000e+00,  0.00000000e+00,\n",
       "         0.00000000e+00,  0.00000000e+00],\n",
       "       [ 6.25000000e-02,  1.96000000e+00,  0.00000000e+00,\n",
       "         0.00000000e+00,  0.00000000e+00,  0.00000000e+00,\n",
       "         0.00000000e+00,  0.00000000e+00],\n",
       "       [ 1.25000000e-01,  1.96000000e+00, -1.22500000e-01,\n",
       "         0.00000000e+00,  0.00000000e+00,  0.00000000e+00,\n",
       "         0.00000000e+00,  0.00000000e+00],\n",
       "       [ 1.87500000e-01,  1.96000000e+00, -2.45000000e-01,\n",
       "        -7.65625000e-03,  0.00000000e+00,  0.00000000e+00,\n",
       "        -0.00000000e+00,  0.00000000e+00],\n",
       "       [ 2.50000000e-01,  1.96000000e+00, -3.67500000e-01,\n",
       "        -2.29687500e-02,  0.00000000e+00,  0.00000000e+00,\n",
       "        -0.00000000e+00,  0.00000000e+00],\n",
       "       [ 3.12500000e-01,  1.96000000e+00, -4.90000000e-01,\n",
       "        -4.59375000e-02,  0.00000000e+00,  0.00000000e+00,\n",
       "        -0.00000000e+00,  0.00000000e+00],\n",
       "       [ 3.75000000e-01,  1.96000000e+00, -6.12500000e-01,\n",
       "        -7.65625000e-02,  0.00000000e+00,  0.00000000e+00,\n",
       "        -0.00000000e+00,  0.00000000e+00],\n",
       "       [ 4.37500000e-01,  1.96000000e+00, -7.35000000e-01,\n",
       "        -1.14843750e-01,  0.00000000e+00,  0.00000000e+00,\n",
       "        -0.00000000e+00,  0.00000000e+00],\n",
       "       [ 5.00000000e-01,  1.96000000e+00, -8.57500000e-01,\n",
       "        -1.60781250e-01,  0.00000000e+00,  0.00000000e+00,\n",
       "        -0.00000000e+00,  0.00000000e+00],\n",
       "       [ 5.62500000e-01,  1.96000000e+00, -9.80000000e-01,\n",
       "        -2.14375000e-01,  0.00000000e+00,  0.00000000e+00,\n",
       "        -0.00000000e+00,  0.00000000e+00],\n",
       "       [ 6.25000000e-01,  1.96000000e+00, -1.10250000e+00,\n",
       "        -2.75625000e-01,  0.00000000e+00,  0.00000000e+00,\n",
       "        -0.00000000e+00,  0.00000000e+00],\n",
       "       [ 6.87500000e-01,  1.96000000e+00, -1.22500000e+00,\n",
       "        -3.44531250e-01,  0.00000000e+00,  0.00000000e+00,\n",
       "        -0.00000000e+00,  0.00000000e+00],\n",
       "       [ 7.50000000e-01,  1.96000000e+00, -1.34750000e+00,\n",
       "        -4.21093750e-01,  0.00000000e+00,  0.00000000e+00,\n",
       "        -0.00000000e+00,  0.00000000e+00],\n",
       "       [ 8.12500000e-01,  1.96000000e+00, -1.47000000e+00,\n",
       "        -5.05312500e-01,  0.00000000e+00,  0.00000000e+00,\n",
       "        -0.00000000e+00,  0.00000000e+00],\n",
       "       [ 8.75000000e-01,  1.96000000e+00, -1.59250000e+00,\n",
       "        -5.97187500e-01,  0.00000000e+00,  0.00000000e+00,\n",
       "        -0.00000000e+00,  0.00000000e+00],\n",
       "       [ 9.37500000e-01,  1.96000000e+00, -1.71500000e+00,\n",
       "        -6.96718750e-01,  0.00000000e+00,  0.00000000e+00,\n",
       "        -0.00000000e+00,  0.00000000e+00],\n",
       "       [ 1.00000000e+00,  1.96000000e+00, -1.83750000e+00,\n",
       "        -8.03906250e-01,  0.00000000e+00,  0.00000000e+00,\n",
       "        -0.00000000e+00,  0.00000000e+00],\n",
       "       [ 1.06250000e+00,  0.00000000e+00, -1.96000000e+00,\n",
       "        -9.18750000e-01,  0.00000000e+00,  0.00000000e+00,\n",
       "        -0.00000000e+00, -5.23598776e-01],\n",
       "       [ 1.12500000e+00,  0.00000000e+00, -1.96000000e+00,\n",
       "        -1.04125000e+00,  0.00000000e+00,  0.00000000e+00,\n",
       "         2.82901632e-01, -5.23598776e-01],\n",
       "       [ 1.18750000e+00,  0.00000000e+00, -1.96000000e+00,\n",
       "        -1.16375000e+00,  0.00000000e+00,  1.76813520e-02,\n",
       "         2.82901632e-01, -5.23598776e-01],\n",
       "       [ 1.25000000e+00,  0.00000000e+00, -1.96000000e+00,\n",
       "        -1.28623085e+00, -2.16585276e-03,  3.53627040e-02,\n",
       "         2.82901632e-01, -5.23598776e-01],\n",
       "       [ 1.31250000e+00,  0.00000000e+00, -1.96000000e+00,\n",
       "        -1.40865427e+00, -6.49688120e-03,  5.30440560e-02,\n",
       "         2.82901632e-01, -5.23598776e-01],\n",
       "       [ 1.37500000e+00,  0.00000000e+00, -1.96000000e+00,\n",
       "        -1.53098197e+00, -1.29917313e-02,  7.07254080e-02,\n",
       "         2.82901632e-01, -5.23598776e-01],\n",
       "       [ 1.43750000e+00,  0.00000000e+00, -1.96000000e+00,\n",
       "        -1.65317572e+00, -2.16483727e-02,  8.84067600e-02,\n",
       "         2.82901632e-01, -5.23598776e-01],\n",
       "       [ 1.50000000e+00,  0.00000000e+00, -1.96000000e+00,\n",
       "        -1.77519732e+00, -3.24640991e-02,  1.06088112e-01,\n",
       "         2.82901632e-01, -5.23598776e-01],\n",
       "       [ 1.56250000e+00,  0.00000000e+00, -1.96000000e+00,\n",
       "        -1.89700861e+00, -4.54355293e-02,  1.23769464e-01,\n",
       "         2.82901632e-01, -5.23598776e-01],\n",
       "       [ 1.62500000e+00,  0.00000000e+00, -1.96000000e+00,\n",
       "        -2.01857153e+00, -6.05586080e-02,  1.41450816e-01,\n",
       "         2.82901632e-01, -5.23598776e-01],\n",
       "       [ 1.68750000e+00,  0.00000000e+00, -1.96000000e+00,\n",
       "        -2.13984806e+00, -7.78286076e-02,  1.59132168e-01,\n",
       "         2.82901632e-01, -5.23598776e-01],\n",
       "       [ 1.75000000e+00,  0.00000000e+00, -1.96000000e+00,\n",
       "        -2.26080029e+00, -9.72401290e-02,  1.76813520e-01,\n",
       "         2.82901632e-01, -5.23598776e-01],\n",
       "       [ 1.81250000e+00,  0.00000000e+00, -1.96000000e+00,\n",
       "        -2.38139042e+00, -1.18787104e-01,  1.94494872e-01,\n",
       "         2.82901632e-01, -5.23598776e-01],\n",
       "       [ 1.87500000e+00,  0.00000000e+00, -1.96000000e+00,\n",
       "        -2.50158073e+00, -1.42462796e-01,  2.12176224e-01,\n",
       "         2.82901632e-01, -5.23598776e-01],\n",
       "       [ 1.93750000e+00,  0.00000000e+00, -1.96000000e+00,\n",
       "        -2.62133366e+00, -1.68259804e-01,  2.29857576e-01,\n",
       "         2.82901632e-01, -5.23598776e-01],\n",
       "       [ 2.00000000e+00,  0.00000000e+00, -1.96000000e+00,\n",
       "        -2.74061177e+00, -1.96170063e-01,  2.47538928e-01,\n",
       "         2.82901632e-01, -5.23598776e-01],\n",
       "       [ 2.06250000e+00,  0.00000000e+00, -1.96000000e+00,\n",
       "        -2.85937777e+00, -2.26184847e-01,  2.65220280e-01,\n",
       "         2.82901632e-01,  5.23598776e-01],\n",
       "       [ 2.12500000e+00,  0.00000000e+00, -1.96000000e+00,\n",
       "        -2.97759453e+00, -2.58294774e-01,  2.82901632e-01,\n",
       "        -2.82901632e-01,  5.23598776e-01],\n",
       "       [ 2.18750000e+00,  0.00000000e+00, -1.96000000e+00,\n",
       "        -3.09522510e+00, -2.92489805e-01,  2.65220280e-01,\n",
       "        -2.82901632e-01,  5.23598776e-01],\n",
       "       [ 2.25000000e+00,  0.00000000e+00, -1.96000000e+00,\n",
       "        -3.21344186e+00, -3.24599732e-01,  2.47538928e-01,\n",
       "        -2.82901632e-01,  5.23598776e-01],\n",
       "       [ 2.31250000e+00,  0.00000000e+00, -1.96000000e+00,\n",
       "        -3.33220786e+00, -3.54614516e-01,  2.29857576e-01,\n",
       "        -2.82901632e-01,  5.23598776e-01],\n",
       "       [ 2.37500000e+00,  0.00000000e+00, -1.96000000e+00,\n",
       "        -3.45148597e+00, -3.82524775e-01,  2.12176224e-01,\n",
       "        -2.82901632e-01,  5.23598776e-01],\n",
       "       [ 2.43750000e+00,  0.00000000e+00, -1.96000000e+00,\n",
       "        -3.57123890e+00, -4.08321783e-01,  1.94494872e-01,\n",
       "        -2.82901632e-01,  5.23598776e-01],\n",
       "       [ 2.50000000e+00,  0.00000000e+00, -1.96000000e+00,\n",
       "        -3.69142921e+00, -4.31997475e-01,  1.76813520e-01,\n",
       "        -2.82901632e-01,  5.23598776e-01],\n",
       "       [ 2.56250000e+00,  0.00000000e+00, -1.96000000e+00,\n",
       "        -3.81201934e+00, -4.53544450e-01,  1.59132168e-01,\n",
       "        -2.82901632e-01,  5.23598776e-01],\n",
       "       [ 2.62500000e+00,  0.00000000e+00, -1.96000000e+00,\n",
       "        -3.93297157e+00, -4.72955971e-01,  1.41450816e-01,\n",
       "        -2.82901632e-01,  5.23598776e-01],\n",
       "       [ 2.68750000e+00,  0.00000000e+00, -1.96000000e+00,\n",
       "        -4.05424810e+00, -4.90225971e-01,  1.23769464e-01,\n",
       "        -2.82901632e-01,  5.23598776e-01],\n",
       "       [ 2.75000000e+00,  0.00000000e+00, -1.96000000e+00,\n",
       "        -4.17581102e+00, -5.05349050e-01,  1.06088112e-01,\n",
       "        -2.82901632e-01,  5.23598776e-01],\n",
       "       [ 2.81250000e+00,  0.00000000e+00, -1.96000000e+00,\n",
       "        -4.29762231e+00, -5.18320480e-01,  8.84067600e-02,\n",
       "        -2.82901632e-01,  5.23598776e-01],\n",
       "       [ 2.87500000e+00,  0.00000000e+00, -1.96000000e+00,\n",
       "        -4.41964391e+00, -5.29136206e-01,  7.07254080e-02,\n",
       "        -2.82901632e-01,  5.23598776e-01],\n",
       "       [ 2.93750000e+00,  0.00000000e+00, -1.96000000e+00,\n",
       "        -4.54183766e+00, -5.37792848e-01,  5.30440560e-02,\n",
       "        -2.82901632e-01,  5.23598776e-01],\n",
       "       [ 3.00000000e+00,  0.00000000e+00, -1.96000000e+00,\n",
       "        -4.66416536e+00, -5.44287698e-01,  3.53627040e-02,\n",
       "        -2.82901632e-01,  5.23598776e-01],\n",
       "       [ 3.06250000e+00,  0.00000000e+00, -1.96000000e+00,\n",
       "        -4.78658878e+00, -5.48618726e-01,  1.76813520e-02,\n",
       "        -2.82901632e-01,  0.00000000e+00],\n",
       "       [ 3.12500000e+00,  0.00000000e+00, -1.96000000e+00,\n",
       "        -4.90906963e+00, -5.50784579e-01,  6.93889390e-18,\n",
       "        -0.00000000e+00,  0.00000000e+00],\n",
       "       [ 3.18750000e+00,  0.00000000e+00, -1.96000000e+00,\n",
       "        -5.03156963e+00, -5.50784579e-01,  6.93889390e-18,\n",
       "        -0.00000000e+00,  0.00000000e+00],\n",
       "       [ 3.25000000e+00,  2.94000000e+00, -1.96000000e+00,\n",
       "        -5.15406963e+00, -5.50784579e-01,  6.93889390e-18,\n",
       "        -0.00000000e+00,  0.00000000e+00],\n",
       "       [ 3.31250000e+00,  2.94000000e+00, -1.77625000e+00,\n",
       "        -5.27656963e+00, -5.50784579e-01,  6.93889390e-18,\n",
       "        -0.00000000e+00,  0.00000000e+00],\n",
       "       [ 3.37500000e+00,  2.94000000e+00, -1.59250000e+00,\n",
       "        -5.38758525e+00, -5.50784579e-01,  6.93889390e-18,\n",
       "        -0.00000000e+00,  0.00000000e+00],\n",
       "       [ 3.43750000e+00,  2.94000000e+00, -1.40875000e+00,\n",
       "        -5.48711650e+00, -5.50784579e-01,  6.93889390e-18,\n",
       "        -0.00000000e+00,  0.00000000e+00],\n",
       "       [ 3.50000000e+00,  2.94000000e+00, -1.22500000e+00,\n",
       "        -5.57516338e+00, -5.50784579e-01,  6.93889390e-18,\n",
       "        -0.00000000e+00,  0.00000000e+00],\n",
       "       [ 3.56250000e+00,  2.94000000e+00, -1.04125000e+00,\n",
       "        -5.65172588e+00, -5.50784579e-01,  6.93889390e-18,\n",
       "        -0.00000000e+00,  0.00000000e+00],\n",
       "       [ 3.62500000e+00,  2.94000000e+00, -8.57500000e-01,\n",
       "        -5.71680400e+00, -5.50784579e-01,  6.93889390e-18,\n",
       "        -0.00000000e+00,  0.00000000e+00],\n",
       "       [ 3.68750000e+00,  2.94000000e+00, -6.73750000e-01,\n",
       "        -5.77039775e+00, -5.50784579e-01,  6.93889390e-18,\n",
       "        -0.00000000e+00,  0.00000000e+00],\n",
       "       [ 3.75000000e+00,  2.94000000e+00, -4.90000000e-01,\n",
       "        -5.81250713e+00, -5.50784579e-01,  6.93889390e-18,\n",
       "        -0.00000000e+00,  0.00000000e+00],\n",
       "       [ 3.81250000e+00,  2.94000000e+00, -3.06250000e-01,\n",
       "        -5.84313213e+00, -5.50784579e-01,  6.93889390e-18,\n",
       "        -0.00000000e+00,  0.00000000e+00],\n",
       "       [ 3.87500000e+00,  2.94000000e+00, -1.22500000e-01,\n",
       "        -5.86227275e+00, -5.50784579e-01,  6.93889390e-18,\n",
       "        -0.00000000e+00,  0.00000000e+00],\n",
       "       [ 3.93750000e+00,  2.94000000e+00,  6.12500000e-02,\n",
       "        -5.86992900e+00, -5.50784579e-01,  6.93889390e-18,\n",
       "        -0.00000000e+00,  0.00000000e+00],\n",
       "       [ 4.00000000e+00,  2.94000000e+00,  2.45000000e-01,\n",
       "        -5.86610088e+00, -5.50784579e-01,  6.93889390e-18,\n",
       "         0.00000000e+00,  0.00000000e+00],\n",
       "       [ 4.06250000e+00,  2.94000000e+00,  4.28750000e-01,\n",
       "        -5.85078838e+00, -5.50784579e-01,  6.93889390e-18,\n",
       "         0.00000000e+00,  0.00000000e+00],\n",
       "       [ 4.12500000e+00,  2.94000000e+00,  6.12500000e-01,\n",
       "        -5.82399150e+00, -5.50784579e-01,  6.93889390e-18,\n",
       "         0.00000000e+00,  0.00000000e+00],\n",
       "       [ 4.18750000e+00,  2.94000000e+00,  7.96250000e-01,\n",
       "        -5.78571025e+00, -5.50784579e-01,  6.93889390e-18,\n",
       "         0.00000000e+00,  0.00000000e+00],\n",
       "       [ 4.25000000e+00,  2.94000000e+00,  9.80000000e-01,\n",
       "        -5.73594463e+00, -5.50784579e-01,  6.93889390e-18,\n",
       "         0.00000000e+00,  0.00000000e+00],\n",
       "       [ 4.31250000e+00,  2.94000000e+00,  1.16375000e+00,\n",
       "        -5.67469463e+00, -5.50784579e-01,  6.93889390e-18,\n",
       "         0.00000000e+00,  0.00000000e+00],\n",
       "       [ 4.37500000e+00,  2.94000000e+00,  1.34750000e+00,\n",
       "        -5.60196025e+00, -5.50784579e-01,  6.93889390e-18,\n",
       "         0.00000000e+00,  0.00000000e+00],\n",
       "       [ 4.43750000e+00,  2.94000000e+00,  1.53125000e+00,\n",
       "        -5.51774150e+00, -5.50784579e-01,  6.93889390e-18,\n",
       "         0.00000000e+00,  0.00000000e+00],\n",
       "       [ 4.50000000e+00,  2.94000000e+00,  1.71500000e+00,\n",
       "        -5.42203838e+00, -5.50784579e-01,  6.93889390e-18,\n",
       "         0.00000000e+00,  0.00000000e+00],\n",
       "       [ 4.56250000e+00,  2.94000000e+00,  1.89875000e+00,\n",
       "        -5.31485088e+00, -5.50784579e-01,  6.93889390e-18,\n",
       "         0.00000000e+00,  0.00000000e+00],\n",
       "       [ 4.62500000e+00,  2.94000000e+00,  2.08250000e+00,\n",
       "        -5.19617900e+00, -5.50784579e-01,  6.93889390e-18,\n",
       "         0.00000000e+00,  0.00000000e+00],\n",
       "       [ 4.68750000e+00,  2.94000000e+00,  2.26625000e+00,\n",
       "        -5.06602275e+00, -5.50784579e-01,  6.93889390e-18,\n",
       "         0.00000000e+00,  0.00000000e+00],\n",
       "       [ 4.75000000e+00,  2.94000000e+00,  2.45000000e+00,\n",
       "        -4.92438213e+00, -5.50784579e-01,  6.93889390e-18,\n",
       "         0.00000000e+00,  0.00000000e+00],\n",
       "       [ 4.81250000e+00,  2.94000000e+00,  2.63375000e+00,\n",
       "        -4.77125713e+00, -5.50784579e-01,  6.93889390e-18,\n",
       "         0.00000000e+00,  0.00000000e+00],\n",
       "       [ 4.87500000e+00,  2.94000000e+00,  2.81750000e+00,\n",
       "        -4.60664775e+00, -5.50784579e-01,  6.93889390e-18,\n",
       "         0.00000000e+00,  0.00000000e+00],\n",
       "       [ 4.93750000e+00,  2.94000000e+00,  3.00125000e+00,\n",
       "        -4.43055400e+00, -5.50784579e-01,  6.93889390e-18,\n",
       "         0.00000000e+00,  0.00000000e+00],\n",
       "       [ 5.00000000e+00,  2.94000000e+00,  3.18500000e+00,\n",
       "        -4.24297588e+00, -5.50784579e-01,  6.93889390e-18,\n",
       "         0.00000000e+00,  0.00000000e+00],\n",
       "       [ 5.06250000e+00,  2.94000000e+00,  3.36875000e+00,\n",
       "        -4.04391338e+00, -5.50784579e-01,  6.93889390e-18,\n",
       "         0.00000000e+00,  0.00000000e+00],\n",
       "       [ 5.12500000e+00,  2.94000000e+00,  3.55250000e+00,\n",
       "        -3.83336650e+00, -5.50784579e-01,  6.93889390e-18,\n",
       "         0.00000000e+00,  0.00000000e+00],\n",
       "       [ 5.18750000e+00,  2.94000000e+00,  3.73625000e+00,\n",
       "        -3.61133525e+00, -5.50784579e-01,  6.93889390e-18,\n",
       "         0.00000000e+00,  0.00000000e+00],\n",
       "       [ 5.25000000e+00,  0.00000000e+00,  3.92000000e+00,\n",
       "        -3.37781963e+00, -5.50784579e-01,  6.93889390e-18,\n",
       "         0.00000000e+00,  0.00000000e+00],\n",
       "       [ 5.31250000e+00,  0.00000000e+00,  3.92000000e+00,\n",
       "        -3.13281963e+00, -5.50784579e-01,  6.93889390e-18,\n",
       "         0.00000000e+00,  0.00000000e+00],\n",
       "       [ 5.37500000e+00,  0.00000000e+00,  3.92000000e+00,\n",
       "        -2.88781963e+00, -5.50784579e-01,  6.93889390e-18,\n",
       "         0.00000000e+00,  0.00000000e+00],\n",
       "       [ 5.43750000e+00,  9.80000000e+00,  3.92000000e+00,\n",
       "        -2.64281963e+00, -5.50784579e-01,  6.93889390e-18,\n",
       "         0.00000000e+00,  0.00000000e+00],\n",
       "       [ 5.50000000e+00,  9.80000000e+00,  3.30750000e+00,\n",
       "        -2.39781963e+00, -5.50784579e-01,  6.93889390e-18,\n",
       "         0.00000000e+00,  0.00000000e+00],\n",
       "       [ 5.56250000e+00,  9.80000000e+00,  2.69500000e+00,\n",
       "        -2.19110088e+00, -5.50784579e-01,  6.93889390e-18,\n",
       "         0.00000000e+00,  0.00000000e+00],\n",
       "       [ 5.62500000e+00,  9.80000000e+00,  2.08250000e+00,\n",
       "        -2.02266338e+00, -5.50784579e-01,  6.93889390e-18,\n",
       "         0.00000000e+00,  0.00000000e+00],\n",
       "       [ 5.68750000e+00,  9.80000000e+00,  1.47000000e+00,\n",
       "        -1.89250713e+00, -5.50784579e-01,  6.93889390e-18,\n",
       "         0.00000000e+00,  0.00000000e+00],\n",
       "       [ 5.75000000e+00,  9.80000000e+00,  8.57500000e-01,\n",
       "        -1.80063213e+00, -5.50784579e-01,  6.93889390e-18,\n",
       "         0.00000000e+00,  0.00000000e+00]])"
      ]
     },
     "execution_count": 8,
     "metadata": {},
     "output_type": "execute_result"
    }
   ],
   "source": [
    "np.array(car.history)."
   ]
  },
  {
   "cell_type": "code",
   "execution_count": 16,
   "metadata": {},
   "outputs": [],
   "source": [
    "import pickle\n",
    "\n",
    "def process_data(filename):\n",
    "    with open(filename, 'rb') as f:\n",
    "        data_list = pickle.load(f)\n",
    "    return list(data_list)"
   ]
  },
  {
   "cell_type": "code",
   "execution_count": 17,
   "metadata": {},
   "outputs": [],
   "source": [
    "data = process_data(\"trajectory_1.pickle\")"
   ]
  },
  {
   "cell_type": "code",
   "execution_count": 18,
   "metadata": {},
   "outputs": [
    {
     "data": {
      "text/plain": [
       "(0.0, 0, 0.0, 0.0)"
      ]
     },
     "execution_count": 18,
     "metadata": {},
     "output_type": "execute_result"
    }
   ],
   "source": [
    "data[0]"
   ]
  },
  {
   "cell_type": "code",
   "execution_count": 19,
   "metadata": {},
   "outputs": [],
   "source": [
    "T = list(np.array(data).T[0])\n",
    "D = list(np.array(data).T[1])"
   ]
  },
  {
   "cell_type": "code",
   "execution_count": 20,
   "metadata": {},
   "outputs": [
    {
     "data": {
      "text/plain": [
       "<matplotlib.collections.PathCollection at 0x7f869b2157b8>"
      ]
     },
     "execution_count": 20,
     "metadata": {},
     "output_type": "execute_result"
    },
    {
     "data": {
      "image/png": "[encoded data removed]",
      "text/plain": [
       "<Figure size 432x288 with 1 Axes>"
      ]
     },
     "metadata": {},
     "output_type": "display_data"
    }
   ],
   "source": [
    "plt.scatter(T,D)"
   ]
  },
  {
   "cell_type": "code",
   "execution_count": 21,
   "metadata": {},
   "outputs": [],
   "source": [
    "data = process_data(\"sharp_left.pickle\")"
   ]
  },
  {
   "cell_type": "code",
   "execution_count": 22,
   "metadata": {},
   "outputs": [
    {
     "data": {
      "text/plain": [
       "(0.0, 0, 0.0, 0.0)"
      ]
     },
     "execution_count": 22,
     "metadata": {},
     "output_type": "execute_result"
    }
   ],
   "source": [
    "data[0]"
   ]
  },
  {
   "cell_type": "code",
   "execution_count": 23,
   "metadata": {},
   "outputs": [],
   "source": [
    "T = list(np.array(data).T[0])\n",
    "D = list(np.array(data).T[1])"
   ]
  },
  {
   "cell_type": "code",
   "execution_count": 24,
   "metadata": {},
   "outputs": [
    {
     "data": {
      "text/plain": [
       "<matplotlib.collections.PathCollection at 0x7f869b1c9b00>"
      ]
     },
     "execution_count": 24,
     "metadata": {},
     "output_type": "execute_result"
    },
    {
     "data": {
      "image/png": "[encoded data removed]",
      "text/plain": [
       "<Figure size 432x288 with 1 Axes>"
      ]
     },
     "metadata": {},
     "output_type": "display_data"
    }
   ],
   "source": [
    "plt.scatter(T,D)"
   ]
  },
  {
   "cell_type": "code",
   "execution_count": null,
   "metadata": {},
   "outputs": [],
   "source": []
  }
 ],
 "metadata": {
  "kernelspec": {
   "display_name": "Python 3",
   "language": "python",
   "name": "python3"
  },
  "language_info": {
   "codemirror_mode": {
    "name": "ipython",
    "version": 3
   },
   "file_extension": ".py",
   "mimetype": "text/x-python",
   "name": "python",
   "nbconvert_exporter": "python",
   "pygments_lexer": "ipython3",
   "version": "3.5.5"
  }
 },
 "nbformat": 4,
 "nbformat_minor": 2
}
